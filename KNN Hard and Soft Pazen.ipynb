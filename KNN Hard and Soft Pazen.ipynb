{
 "cells": [
  {
   "cell_type": "code",
   "execution_count": 1,
   "metadata": {},
   "outputs": [],
   "source": [
    "import numpy as np\n"
   ]
  },
  {
   "cell_type": "code",
   "execution_count": 2,
   "metadata": {},
   "outputs": [],
   "source": [
    "\n",
    "class HardParzen:\n",
    "    def __init__(self, k):\n",
    "        self.k = k\n",
    "\n",
    "    def train(self, train_inputs, train_labels):\n",
    "        self.label_list = np.unique(train_labels) # to get the unique class values\n",
    "        self.label_length=len(np.unique(train_labels))# to get the number of classes\n",
    "        self.train_inputs=train_inputs # we just store the training sets as, there is no exact concept of KNN-hard parzen\n",
    "        self.train_labels=train_labels\n",
    "\n",
    "    def compute_predictions(self, test_data):\n",
    "        neighbours=[]\n",
    "        \n",
    "        length=test_data.shape[0]\n",
    "        classes_pred=np.zeros(length) # creating a outut list of values so that we can predict and assign class accordingly\n",
    "        \n",
    "        counts=np.ones((length,self.label_length))\n",
    "        \n",
    "        for i in range(0,len(test_data)): # looping over the test set\n",
    "            \n",
    "            distance=(np.sum((np.abs(test_data[i] - self.train_inputs)) ** 2, axis=1)) ** (1.0 / 2) # taking the distance\n",
    "            neighbours = np.argsort(distance)[:self.k] # sorting and taking k closest distance\n",
    "            for k in neighbours:# taking the classes of the closest point\n",
    "                counts[i,int(self.train_labels[k]-1)]+=1\n",
    "\n",
    "            classes_pred[i] = np.argmax(counts[i, :])+1 #taking the majority\n",
    "        return classes_pred # returning the predictions\n",
    "\n",
    "\n",
    "class SoftRBFParzen:\n",
    "    def __init__(self, sigma):\n",
    "        self.sigma  = sigma\n",
    "\n",
    "    def train(self, train_inputs, train_labels):\n",
    "        self.label_list = np.unique(train_labels)# to get the unique class values\n",
    "        self.label_length=len(np.unique(train_labels))# to get the number of classes\n",
    "        self.train_inputs=train_inputs# we just store the training sets as, there is no exact concept of KNN-soft RBF parzen\n",
    "        self.train_labels=train_labels\n",
    "\n",
    "    def compute_predictions(self, test_data):\n",
    "        neighbours=[]\n",
    "        \n",
    "        length=test_data.shape[0]\n",
    "        classes_pred=np.zeros(length)\n",
    "        counts=np.ones((length,self.label_length))# creating a outut list of values so that we can predict and assign class accordingly\n",
    "        for i in range(len(test_data)):# looping over the test set\n",
    "            distances = (np.sum((np.abs(test_data[i] - self.train_inputs)) ** 2, axis=1)) ** (1.0 / 2) # taking the distance\n",
    "            dic = dict.fromkeys(self.label_list, 1)\n",
    "            for j in range(len(distances)):\n",
    "                # taking the distribution and assigning weights\n",
    "                sig=(1/(np.sqrt(2*np.pi)*self.sigma))*np.exp(-(distances[j]**2/(2*self.sigma**2))) \n",
    "                dic[self.train_labels[j]]+=sig\n",
    "            classes_pred[i]= max(dic, key=dic.get) # taking the class with the highest probability\n",
    "        return classes_pred\n",
    "\n",
    "\n",
    "def errorRate(y_pred,y_test):\n",
    "    total_correct=0\n",
    "    for i in range(0,len(y_pred)):\n",
    "            if y_pred[i]==y_test[i]:\n",
    "                total_correct+=1       \n",
    "    return (1- ( total_correct/len(y_pred)))\n",
    "\n"
   ]
  },
  {
   "cell_type": "code",
   "execution_count": 3,
   "metadata": {},
   "outputs": [],
   "source": [
    "iris_df=np.loadtxt('Dataset/iris.txt')\n",
    "X=iris_df[:,:4]\n",
    "y=iris_df[:,4]\n"
   ]
  },
  {
   "cell_type": "code",
   "execution_count": 4,
   "metadata": {},
   "outputs": [
    {
     "data": {
      "text/plain": [
       "array([1., 2., 3.])"
      ]
     },
     "execution_count": 4,
     "metadata": {},
     "output_type": "execute_result"
    }
   ],
   "source": [
    "np.unique(y)"
   ]
  },
  {
   "cell_type": "code",
   "execution_count": 5,
   "metadata": {},
   "outputs": [],
   "source": [
    "hp=HardParzen\n",
    "from sklearn.model_selection import train_test_split\n",
    "\n",
    "X_train,X_test,y_train,y_test=train_test_split(X, y,test_size=0.2)"
   ]
  },
  {
   "cell_type": "markdown",
   "metadata": {},
   "source": [
    "# Hard Parzen-KNN"
   ]
  },
  {
   "cell_type": "code",
   "execution_count": 6,
   "metadata": {},
   "outputs": [],
   "source": [
    "neighbour=[1,3,5,7,10,15,20,25,50,75,100]\n",
    "error_hard=[]\n",
    "for h in neighbour:\n",
    "    knn_hard=HardParzen(h)\n",
    "    knn_hard.train(X_train,y_train)\n",
    "    knn_hard_pred=knn_hard.compute_predictions(X_test)\n",
    "    error_hard.append(errorRate(knn_hard_pred,y_test ))"
   ]
  },
  {
   "cell_type": "code",
   "execution_count": 7,
   "metadata": {},
   "outputs": [
    {
     "data": {
      "text/plain": [
       "[0.06666666666666665,\n",
       " 0.06666666666666665,\n",
       " 0.06666666666666665,\n",
       " 0.033333333333333326,\n",
       " 0.033333333333333326,\n",
       " 0.033333333333333326,\n",
       " 0.033333333333333326,\n",
       " 0.033333333333333326,\n",
       " 0.06666666666666665,\n",
       " 0.19999999999999996,\n",
       " 0.23333333333333328]"
      ]
     },
     "execution_count": 7,
     "metadata": {},
     "output_type": "execute_result"
    }
   ],
   "source": [
    "error_hard"
   ]
  },
  {
   "cell_type": "code",
   "execution_count": 8,
   "metadata": {},
   "outputs": [
    {
     "data": {
      "text/plain": [
       "Text(0.5, 1.0, 'Hard Parzen Error Analysis')"
      ]
     },
     "execution_count": 8,
     "metadata": {},
     "output_type": "execute_result"
    },
    {
     "data": {
      "image/png": "[encoded data removed]",
      "text/plain": [
       "<Figure size 432x288 with 1 Axes>"
      ]
     },
     "metadata": {
      "needs_background": "light"
     },
     "output_type": "display_data"
    }
   ],
   "source": [
    "#Error Analysis- Q5\n",
    "import matplotlib.pyplot as plt\n",
    "plt.plot(neighbour,error_hard)\n",
    "plt.xlabel('k values')\n",
    "plt.ylabel('error rate values')\n",
    "plt.title('Hard Parzen Error Analysis')"
   ]
  },
  {
   "cell_type": "markdown",
   "metadata": {},
   "source": [
    "# Soft Parzen- KNN"
   ]
  },
  {
   "cell_type": "code",
   "execution_count": 9,
   "metadata": {},
   "outputs": [],
   "source": [
    "sigma=[0.01, 0.1, 0.2, 0.3, 0.4, 0.5, 1.0, 3.0, 10.0, 20.0]\n",
    "error_soft=[]\n",
    "for s in sigma:\n",
    "    knn_soft=SoftRBFParzen(s)\n",
    "    knn_soft.train(X_train,y_train)\n",
    "    knn_soft_pred=knn_soft.compute_predictions(X_test)\n",
    "    error_soft.append(errorRate(knn_soft_pred,y_test ))"
   ]
  },
  {
   "cell_type": "code",
   "execution_count": 10,
   "metadata": {},
   "outputs": [
    {
     "data": {
      "text/plain": [
       "Text(0.5, 1.0, 'Soft Parzen Error Analysis')"
      ]
     },
     "execution_count": 10,
     "metadata": {},
     "output_type": "execute_result"
    },
    {
     "data": {
      "image/png": "[encoded data removed]",
      "text/plain": [
       "<Figure size 432x288 with 1 Axes>"
      ]
     },
     "metadata": {
      "needs_background": "light"
     },
     "output_type": "display_data"
    }
   ],
   "source": [
    "#Error Analysis- Q5\n",
    "import matplotlib.pyplot as plt\n",
    "plt.plot(sigma,error_soft )\n",
    "# plt.plot(s_res_avg , list(best[1].values()),label='Soft Parzen')\n",
    "plt.xlabel('sigma values')\n",
    "plt.ylabel('error rate values')\n",
    "plt.title('Soft Parzen Error Analysis')"
   ]
  },
  {
   "cell_type": "code",
   "execution_count": null,
   "metadata": {},
   "outputs": [],
   "source": []
  }
 ],
 "metadata": {
  "kernelspec": {
   "display_name": "Python 3",
   "language": "python",
   "name": "python3"
  },
  "language_info": {
   "codemirror_mode": {
    "name": "ipython",
    "version": 3
   },
   "file_extension": ".py",
   "mimetype": "text/x-python",
   "name": "python",
   "nbconvert_exporter": "python",
   "pygments_lexer": "ipython3",
   "version": "3.8.3"
  }
 },
 "nbformat": 4,
 "nbformat_minor": 4
}
