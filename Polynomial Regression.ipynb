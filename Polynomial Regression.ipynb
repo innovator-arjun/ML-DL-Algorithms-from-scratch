{
 "cells": [
  {
   "cell_type": "code",
   "execution_count": 28,
   "metadata": {},
   "outputs": [],
   "source": [
    "# Importing libraries \n",
    "import numpy as np \n",
    "import math\n",
    "import matplotlib.pyplot as plt \n",
    "import pandas as pd\n",
    "import seaborn as sns\n",
    "%matplotlib inline"
   ]
  },
  {
   "cell_type": "code",
   "execution_count": 29,
   "metadata": {},
   "outputs": [],
   "source": [
    "salary_df=pd.read_csv('Dataset/Position_Salaries.csv')"
   ]
  },
  {
   "cell_type": "code",
   "execution_count": 30,
   "metadata": {},
   "outputs": [
    {
     "data": {
      "text/html": [
       "<div>\n",
       "<style scoped>\n",
       "    .dataframe tbody tr th:only-of-type {\n",
       "        vertical-align: middle;\n",
       "    }\n",
       "\n",
       "    .dataframe tbody tr th {\n",
       "        vertical-align: top;\n",
       "    }\n",
       "\n",
       "    .dataframe thead th {\n",
       "        text-align: right;\n",
       "    }\n",
       "</style>\n",
       "<table border=\"1\" class=\"dataframe\">\n",
       "  <thead>\n",
       "    <tr style=\"text-align: right;\">\n",
       "      <th></th>\n",
       "      <th>Position</th>\n",
       "      <th>Level</th>\n",
       "      <th>Salary</th>\n",
       "    </tr>\n",
       "  </thead>\n",
       "  <tbody>\n",
       "    <tr>\n",
       "      <th>0</th>\n",
       "      <td>Business Analyst</td>\n",
       "      <td>1</td>\n",
       "      <td>45000</td>\n",
       "    </tr>\n",
       "    <tr>\n",
       "      <th>1</th>\n",
       "      <td>Junior Consultant</td>\n",
       "      <td>2</td>\n",
       "      <td>50000</td>\n",
       "    </tr>\n",
       "    <tr>\n",
       "      <th>2</th>\n",
       "      <td>Senior Consultant</td>\n",
       "      <td>3</td>\n",
       "      <td>60000</td>\n",
       "    </tr>\n",
       "    <tr>\n",
       "      <th>3</th>\n",
       "      <td>Manager</td>\n",
       "      <td>4</td>\n",
       "      <td>80000</td>\n",
       "    </tr>\n",
       "    <tr>\n",
       "      <th>4</th>\n",
       "      <td>Country Manager</td>\n",
       "      <td>5</td>\n",
       "      <td>110000</td>\n",
       "    </tr>\n",
       "  </tbody>\n",
       "</table>\n",
       "</div>"
      ],
      "text/plain": [
       "            Position  Level  Salary\n",
       "0   Business Analyst      1   45000\n",
       "1  Junior Consultant      2   50000\n",
       "2  Senior Consultant      3   60000\n",
       "3            Manager      4   80000\n",
       "4    Country Manager      5  110000"
      ]
     },
     "execution_count": 30,
     "metadata": {},
     "output_type": "execute_result"
    }
   ],
   "source": [
    "salary_df.head()"
   ]
  },
  {
   "cell_type": "code",
   "execution_count": 31,
   "metadata": {},
   "outputs": [
    {
     "data": {
      "text/plain": [
       "<matplotlib.axes._subplots.AxesSubplot at 0x1d932d94ac0>"
      ]
     },
     "execution_count": 31,
     "metadata": {},
     "output_type": "execute_result"
    },
    {
     "data": {
      "image/png": "[encoded data removed]",
      "text/plain": [
       "<Figure size 432x288 with 1 Axes>"
      ]
     },
     "metadata": {
      "needs_background": "light"
     },
     "output_type": "display_data"
    }
   ],
   "source": [
    "sns.scatterplot(x='Level',y='Salary',data=salary_df)"
   ]
  },
  {
   "cell_type": "code",
   "execution_count": 32,
   "metadata": {},
   "outputs": [],
   "source": [
    "from sklearn.model_selection import train_test_split\n",
    "X = salary_df.iloc[:,[1]].values \n",
    "Y = salary_df.iloc[:,2].values"
   ]
  },
  {
   "cell_type": "code",
   "execution_count": 33,
   "metadata": {},
   "outputs": [],
   "source": [
    "\n",
    "#Polynomial Regression \n",
    "class PolynomailRegression() : \n",
    "    def __init__( self, degree, learning_rate, iterations ) : \n",
    "        self.degree = degree \n",
    "        self.learning_rate = learning_rate \n",
    "        self.iterations = iterations   \n",
    "        \n",
    "    # function to tranform X\n",
    "    def transform( self, X ) : \n",
    "        # initialize X_transform \n",
    "        X_transform = np.ones( ( self.m, 1 ) ) \n",
    "        j = 0\n",
    "        for j in range( self.degree + 1 ) : \n",
    "            if j != 0 : \n",
    "                x_pow = np.power( X, j ) \n",
    "                # append x_pow to X_transform \n",
    "                X_transform = np.append( X_transform, x_pow.reshape( -1, 1 ), axis = 1 ) \n",
    "        return X_transform    \n",
    "      \n",
    "    # function to normalize X_tranform\n",
    "    def normalize( self, X ) : \n",
    "        X[:, 1:] = ( X[:, 1:] - np.mean( X[:, 1:], axis = 0 ) ) / np.std( X[:, 1:], axis = 0 ) \n",
    "        return X \n",
    "          \n",
    "    # model training \n",
    "    def fit( self, X, Y ) : \n",
    "        self.X = X \n",
    "        self.Y = Y \n",
    "        self.m, self.n = self.X.shape \n",
    "        # weight initialization \n",
    "        self.W = np.zeros( self.degree + 1 ) \n",
    "        # tranform X for polynomial  h( x ) = w0 * x^0 + w1 * x^1 + w2 * x^2 + ........+ wn * x^n \n",
    "        X_transform = self.transform( self.X ) \n",
    "          \n",
    "        # normalize X_transform \n",
    "        X_normalize = self.normalize( X_transform ) \n",
    "        # gradient descent learning\n",
    "        for i in range( self.iterations ) : \n",
    "            h = self.predict( self.X ) \n",
    "            error = h - self.Y \n",
    "            # update weights  \n",
    "            self.W = self.W - self.learning_rate * ( 1 / self.m ) * np.dot( X_normalize.T, error )\n",
    "        return self\n",
    "      \n",
    "    # predict  \n",
    "    def predict( self, X ) : \n",
    "        # tranform X for polynomial  h( x ) = w0 * x^0 + w1 * x^1 + w2 * x^2 + ........+ wn * x^n \n",
    "        X_transform = self.transform( X )\n",
    "        X_normalize = self.normalize( X_transform ) \n",
    "        return np.dot( X_normalize, self.W ) \n",
    " "
   ]
  },
  {
   "cell_type": "code",
   "execution_count": 36,
   "metadata": {},
   "outputs": [],
   "source": [
    "def visualize(X,Y):\n",
    "    # Visualization  \n",
    "    plt.scatter( X, Y, color = 'blue' ) \n",
    "    plt.plot( X, Y_pred, color = 'orange' ) \n",
    "    plt.title( 'X vs Y' ) \n",
    "    plt.xlabel( 'X' ) \n",
    "    plt.ylabel( 'Y' ) \n",
    "    plt.show() "
   ]
  },
  {
   "cell_type": "markdown",
   "metadata": {},
   "source": [
    "# when degree=1, it tries to fit with a straight line"
   ]
  },
  {
   "cell_type": "code",
   "execution_count": 40,
   "metadata": {},
   "outputs": [
    {
     "data": {
      "image/png": "[encoded data removed]",
      "text/plain": [
       "<Figure size 432x288 with 1 Axes>"
      ]
     },
     "metadata": {
      "needs_background": "light"
     },
     "output_type": "display_data"
    }
   ],
   "source": [
    "\n",
    "# model training \n",
    "model = PolynomailRegression( degree = 1, learning_rate = 0.01, iterations = 500 ) \n",
    "model.fit( X, Y ) \n",
    "# Prediction on training set \n",
    "Y_pred = model.predict( X ) \n",
    "visualize(X,Y)\n"
   ]
  },
  {
   "cell_type": "markdown",
   "metadata": {},
   "source": [
    "# At Degree=5, the trend is captured well"
   ]
  },
  {
   "cell_type": "code",
   "execution_count": 41,
   "metadata": {},
   "outputs": [
    {
     "data": {
      "image/png": "[encoded data removed]",
      "text/plain": [
       "<Figure size 432x288 with 1 Axes>"
      ]
     },
     "metadata": {
      "needs_background": "light"
     },
     "output_type": "display_data"
    }
   ],
   "source": [
    "\n",
    "# model training \n",
    "model = PolynomailRegression( degree = 5, learning_rate = 0.01, iterations = 500 ) \n",
    "model.fit( X, Y ) \n",
    "# Prediction on training set \n",
    "Y_pred = model.predict( X ) \n",
    "visualize(X,Y)\n"
   ]
  },
  {
   "cell_type": "markdown",
   "metadata": {},
   "source": [
    "# At degree =10, it overfits and will not generalize to new datapoints"
   ]
  },
  {
   "cell_type": "code",
   "execution_count": 42,
   "metadata": {},
   "outputs": [
    {
     "data": {
      "image/png": "[encoded data removed]",
      "text/plain": [
       "<Figure size 432x288 with 1 Axes>"
      ]
     },
     "metadata": {
      "needs_background": "light"
     },
     "output_type": "display_data"
    }
   ],
   "source": [
    "\n",
    "# model training \n",
    "model = PolynomailRegression( degree = 10, learning_rate = 0.01, iterations = 500 ) \n",
    "model.fit( X, Y ) \n",
    "# Prediction on training set \n",
    "Y_pred = model.predict( X ) \n",
    "visualize(X,Y)\n"
   ]
  },
  {
   "cell_type": "code",
   "execution_count": null,
   "metadata": {},
   "outputs": [],
   "source": []
  }
 ],
 "metadata": {
  "kernelspec": {
   "display_name": "Python 3",
   "language": "python",
   "name": "python3"
  },
  "language_info": {
   "codemirror_mode": {
    "name": "ipython",
    "version": 3
   },
   "file_extension": ".py",
   "mimetype": "text/x-python",
   "name": "python",
   "nbconvert_exporter": "python",
   "pygments_lexer": "ipython3",
   "version": "3.8.3"
  }
 },
 "nbformat": 4,
 "nbformat_minor": 4
}
