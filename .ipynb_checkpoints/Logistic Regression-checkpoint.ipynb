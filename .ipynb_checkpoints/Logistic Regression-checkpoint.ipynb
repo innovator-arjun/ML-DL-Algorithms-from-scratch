{
 "cells": [
  {
   "cell_type": "code",
   "execution_count": 60,
   "metadata": {},
   "outputs": [],
   "source": [
    "#Import function\n",
    "import numpy as np\n",
    "import pandas as pd\n",
    "from sklearn import datasets\n",
    "from sklearn.model_selection import train_test_split\n",
    "from sklearn.metrics import confusion_matrix\n",
    "import warnings\n",
    "warnings.filterwarnings(\"ignore\")"
   ]
  },
  {
   "cell_type": "code",
   "execution_count": 61,
   "metadata": {},
   "outputs": [],
   "source": [
    "# To load the dataset-Breast cancer data set and make it input and target features\n",
    "\n",
    "bc=datasets.load_breast_cancer()\n",
    "X,y=bc.data,bc.target"
   ]
  },
  {
   "cell_type": "code",
   "execution_count": 62,
   "metadata": {},
   "outputs": [],
   "source": [
    "#Split the train and test\n",
    "X_train,X_test,y_train,y_test=train_test_split(X,y,test_size=0.2,random_state=1234)"
   ]
  },
  {
   "cell_type": "code",
   "execution_count": null,
   "metadata": {},
   "outputs": [],
   "source": []
  },
  {
   "cell_type": "code",
   "execution_count": 63,
   "metadata": {},
   "outputs": [],
   "source": [
    "class logisticRegression:\n",
    "    def __init__(self,lr=0.001, n_iters=1000):\n",
    "        self.lr=lr # learning rate for the algorithm, by default it is 0.001. USer can override it\n",
    "        self.n_iters=n_iters # number of iterations or steps\n",
    "        self.weights=None\n",
    "        self.bias=None\n",
    "        \n",
    "    def sigmoid(self,value):\n",
    "        # to supress the work and more stable use the below line\n",
    "        #   return .5 * (1 + np.tanh(.5 * x))\n",
    "        return(1/(1+np.exp(-value)))\n",
    "    \n",
    "    def fit(self,X,y):\n",
    "        n_samples,n_features=X.shape # it gives the number of records and columns respectively\n",
    "        self.weights=np.zeros(n_features) # the shape of weight is made equal to features\n",
    "        self.bias=0 # the shape of bias is a single number\n",
    "        \n",
    "        for i in range(self.n_iters): #using for loop to iter as per the number of iterations\n",
    "            \n",
    "            model=np.dot(X,self.weights)+self.bias  # get the values\n",
    "            y_pred=self.sigmoid(model)  # pass it to sigmoid to squash btw 0 and 1\n",
    "            \n",
    "            # Weight updates based on the y_pred and real using the derivatives\n",
    "\n",
    "            dw=(1/n_samples)*np.dot(X.T , (y_pred-y))\n",
    "            db=(1/n_samples)*np.sum(y_pred-y)\n",
    "            \n",
    "            self.weights-=self.lr*dw\n",
    "            self.bias-=self.lr*db\n",
    "            \n",
    "    def predict(self,X): # After the training, we can use this function to predict using the updated weights and bias\n",
    "        model=np.dot(X,self.weights)+self.bias\n",
    "        prob=self.sigmoid(model)\n",
    "        y_pred_classes=[1 if i>0.5 else 0 for i in prob] # the threshold to classify\n",
    "        return y_pred_classes\n",
    "def accuracy(y_true,y_pred):\n",
    "    accuracy = np.sum(y_true == y_pred)/len(y_true)  # finding the correct prediction divided by total num of predictions\n",
    "    return accuracy\n"
   ]
  },
  {
   "cell_type": "code",
   "execution_count": 64,
   "metadata": {},
   "outputs": [],
   "source": [
    "logreg=logisticRegression() #calling the class\n",
    "logreg.fit(X_train,y_train) #using the fit function to learn the weights and bias"
   ]
  },
  {
   "cell_type": "code",
   "execution_count": 65,
   "metadata": {},
   "outputs": [],
   "source": [
    "predictions=logreg.predict(X_test)  #based on the weights, the result is predicted."
   ]
  },
  {
   "cell_type": "code",
   "execution_count": 66,
   "metadata": {},
   "outputs": [
    {
     "name": "stdout",
     "output_type": "stream",
     "text": [
      "Accuracy:  0.8947368421052632\n"
     ]
    }
   ],
   "source": [
    "print(\"Accuracy: \",accuracy(y_test, predictions))"
   ]
  },
  {
   "cell_type": "code",
   "execution_count": 67,
   "metadata": {},
   "outputs": [],
   "source": [
    "cm=confusion_matrix(y_test,predictions)"
   ]
  },
  {
   "cell_type": "code",
   "execution_count": 68,
   "metadata": {},
   "outputs": [
    {
     "name": "stdout",
     "output_type": "stream",
     "text": [
      "[[42  3]\n",
      " [ 9 60]]\n"
     ]
    }
   ],
   "source": [
    "print(cm)"
   ]
  },
  {
   "cell_type": "code",
   "execution_count": null,
   "metadata": {},
   "outputs": [],
   "source": []
  }
 ],
 "metadata": {
  "kernelspec": {
   "display_name": "Python 3",
   "language": "python",
   "name": "python3"
  },
  "language_info": {
   "codemirror_mode": {
    "name": "ipython",
    "version": 3
   },
   "file_extension": ".py",
   "mimetype": "text/x-python",
   "name": "python",
   "nbconvert_exporter": "python",
   "pygments_lexer": "ipython3",
   "version": "3.8.3"
  }
 },
 "nbformat": 4,
 "nbformat_minor": 4
}
