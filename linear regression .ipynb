{
 "cells": [
  {
   "cell_type": "code",
   "execution_count": 11,
   "metadata": {},
   "outputs": [],
   "source": [
    "import numpy as np\n",
    "import pandas as pd\n",
    "import matplotlib.pyplot as plt\n",
    "%matplotlib inline\n",
    "import seaborn as sns"
   ]
  },
  {
   "cell_type": "code",
   "execution_count": 12,
   "metadata": {},
   "outputs": [],
   "source": [
    "# Loading the dataset\n",
    "salary_df=pd.read_csv('Dataset/Salary_Data.csv')\n"
   ]
  },
  {
   "cell_type": "code",
   "execution_count": 13,
   "metadata": {},
   "outputs": [
    {
     "data": {
      "text/html": [
       "<div>\n",
       "<style scoped>\n",
       "    .dataframe tbody tr th:only-of-type {\n",
       "        vertical-align: middle;\n",
       "    }\n",
       "\n",
       "    .dataframe tbody tr th {\n",
       "        vertical-align: top;\n",
       "    }\n",
       "\n",
       "    .dataframe thead th {\n",
       "        text-align: right;\n",
       "    }\n",
       "</style>\n",
       "<table border=\"1\" class=\"dataframe\">\n",
       "  <thead>\n",
       "    <tr style=\"text-align: right;\">\n",
       "      <th></th>\n",
       "      <th>YearsExperience</th>\n",
       "      <th>Salary</th>\n",
       "    </tr>\n",
       "  </thead>\n",
       "  <tbody>\n",
       "    <tr>\n",
       "      <th>0</th>\n",
       "      <td>1.1</td>\n",
       "      <td>39343.0</td>\n",
       "    </tr>\n",
       "    <tr>\n",
       "      <th>1</th>\n",
       "      <td>1.3</td>\n",
       "      <td>46205.0</td>\n",
       "    </tr>\n",
       "    <tr>\n",
       "      <th>2</th>\n",
       "      <td>1.5</td>\n",
       "      <td>37731.0</td>\n",
       "    </tr>\n",
       "    <tr>\n",
       "      <th>3</th>\n",
       "      <td>2.0</td>\n",
       "      <td>43525.0</td>\n",
       "    </tr>\n",
       "    <tr>\n",
       "      <th>4</th>\n",
       "      <td>2.2</td>\n",
       "      <td>39891.0</td>\n",
       "    </tr>\n",
       "  </tbody>\n",
       "</table>\n",
       "</div>"
      ],
      "text/plain": [
       "   YearsExperience   Salary\n",
       "0              1.1  39343.0\n",
       "1              1.3  46205.0\n",
       "2              1.5  37731.0\n",
       "3              2.0  43525.0\n",
       "4              2.2  39891.0"
      ]
     },
     "execution_count": 13,
     "metadata": {},
     "output_type": "execute_result"
    }
   ],
   "source": [
    "salary_df.head()"
   ]
  },
  {
   "cell_type": "code",
   "execution_count": 14,
   "metadata": {},
   "outputs": [
    {
     "data": {
      "text/plain": [
       "<matplotlib.axes._subplots.AxesSubplot at 0x2858adeff70>"
      ]
     },
     "execution_count": 14,
     "metadata": {},
     "output_type": "execute_result"
    },
    {
     "data": {
      "image/png": "[encoded data removed]",
      "text/plain": [
       "<Figure size 432x288 with 1 Axes>"
      ]
     },
     "metadata": {
      "needs_background": "light"
     },
     "output_type": "display_data"
    }
   ],
   "source": [
    "#Quick visualization of the data\n",
    "sns.scatterplot(x='YearsExperience',y='Salary',data=salary_df)"
   ]
  },
  {
   "cell_type": "code",
   "execution_count": 15,
   "metadata": {},
   "outputs": [],
   "source": [
    "#Splitting the datasets\n",
    "from sklearn.model_selection import train_test_split\n",
    "X = salary_df.iloc[:,:-1].values \n",
    "\n",
    "Y = salary_df.iloc[:,1].values \n",
    "X_train,X_test,y_train,y_test=train_test_split(X, Y,test_size=0.2)"
   ]
  },
  {
   "cell_type": "code",
   "execution_count": 16,
   "metadata": {},
   "outputs": [],
   "source": [
    "class LinearRegression:\n",
    "    def __init__(self,alpha,iterations):\n",
    "        self.alpha=alpha # learning rate\n",
    "        self.iterations=iterations #number of iterations\n",
    "        #initilizing weights and bias\n",
    "        self.b0=0\n",
    "        self.weights=np.zeros(X_train.shape[1])\n",
    "    \n",
    "    def cost_fuction(self,y_pred,y_train):\n",
    "        cost=(y_pred-y_train)\n",
    "        mean_sq_er=np.sum(np.array(cost))/len(y_pred)\n",
    "        return mean_sq_er\n",
    "    \n",
    "    \n",
    "    def fit(self,X_train,y_train):\n",
    "        for i in range(0,self.iterations):\n",
    "            #predicting the value using the value of weight and bias\n",
    "            y_pred=self.b0+self.weights*X_train\n",
    "            y_train=np.array(y_train).reshape(-1,1)\n",
    "            \n",
    "            #defining the cost function ie. mean squared error\n",
    "            error=y_pred-y_train\n",
    "            mean_sq_er = np.sum(error**2)\n",
    "            mean_sq_er = mean_sq_er/len(X_train)\n",
    "            \n",
    "            #updating the weights using the gradient descent\n",
    "            self.b0=self.b0-self.alpha*2*np.sum(error)/len(X_train)\n",
    "            self.weights=self.weights-self.alpha*2*np.dot(np.array(X_train).T, (error))/len(X_train)\n",
    "            \n",
    "    def predict(self,X):\n",
    "        # predicting the values for the X_test\n",
    "        return self.b0+self.weights*X\n",
    "    def r2(self,y_,y):\n",
    "        sst = np.sum((y-np.array(y).mean())**2)\n",
    "        ssr = np.sum((y_-y)**2)\n",
    "        r2 = 1-(sst/ssr)\n",
    "        return(r2)"
   ]
  },
  {
   "cell_type": "code",
   "execution_count": 17,
   "metadata": {},
   "outputs": [],
   "source": [
    "lr=LinearRegression(0.01,1000)\n",
    "res=lr.fit(X_train,y_train)"
   ]
  },
  {
   "cell_type": "code",
   "execution_count": null,
   "metadata": {},
   "outputs": [],
   "source": []
  },
  {
   "cell_type": "code",
   "execution_count": 18,
   "metadata": {},
   "outputs": [
    {
     "name": "stdout",
     "output_type": "stream",
     "text": [
      "Predicted Values [[ 54765.96627865]\n",
      " [ 51872.81155111]\n",
      " [ 54765.96627865]\n",
      " [116486.60046614]\n",
      " [ 92376.97773665]\n",
      " [ 75018.04937142]]\n",
      "Test Values [64445.0, 56642.0, 54445.0, 112635.0, 98273.0, 83088.0]\n"
     ]
    }
   ],
   "source": [
    "y_pred=lr.predict(X_test)\n",
    "print(\"Predicted Values\",y_pred)\n",
    "print(\"Test Values\",list(y_test))"
   ]
  },
  {
   "cell_type": "code",
   "execution_count": 19,
   "metadata": {},
   "outputs": [
    {
     "name": "stdout",
     "output_type": "stream",
     "text": [
      "0.9251326938499682\n"
     ]
    }
   ],
   "source": [
    "print(lr.r2(y_pred,y_test))"
   ]
  },
  {
   "cell_type": "code",
   "execution_count": 20,
   "metadata": {},
   "outputs": [
    {
     "data": {
      "image/png": "[encoded data removed]",
      "text/plain": [
       "<Figure size 576x432 with 1 Axes>"
      ]
     },
     "metadata": {
      "needs_background": "light"
     },
     "output_type": "display_data"
    }
   ],
   "source": [
    "cmap = plt.get_cmap('viridis')\n",
    "fig = plt.figure(figsize=(8,6))\n",
    "m1 = plt.scatter(X_train, y_train, color=cmap(0.9), s=10)\n",
    "m2 = plt.scatter(X_test, y_test, color=cmap(0.5), s=10)\n",
    "plt.plot(X_train, lr.predict(X_train), color='black', linewidth=2, label=\"Prediction\")\n",
    "plt.show()"
   ]
  },
  {
   "cell_type": "code",
   "execution_count": null,
   "metadata": {},
   "outputs": [],
   "source": []
  }
 ],
 "metadata": {
  "kernelspec": {
   "display_name": "Python 3",
   "language": "python",
   "name": "python3"
  },
  "language_info": {
   "codemirror_mode": {
    "name": "ipython",
    "version": 3
   },
   "file_extension": ".py",
   "mimetype": "text/x-python",
   "name": "python",
   "nbconvert_exporter": "python",
   "pygments_lexer": "ipython3",
   "version": "3.8.3"
  }
 },
 "nbformat": 4,
 "nbformat_minor": 4
}
